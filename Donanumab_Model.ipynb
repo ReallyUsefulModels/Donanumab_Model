{
 "cells": [
  {
   "cell_type": "markdown",
   "metadata": {},
   "source": [
    "# Donanumab Model\n",
    "\n",
    "This is a model developed by Peter Lacey and Open Sourced by Matt Stammers predicting the possible effects of Donanumab on the NHS\n",
    "\n",
    "Disclaimer: This is intended for illustrative purposes only and the assumptions in the model may be incorrect."
   ]
  },
  {
   "cell_type": "code",
   "execution_count": 6,
   "metadata": {},
   "outputs": [],
   "source": [
    "# Import packages\n",
    "\n",
    "from ASDM.ASDM import Structure\n",
    "import pandas as pd\n",
    "import plotly.express as px\n",
    "pd.options.display.max_columns = 100"
   ]
  },
  {
   "cell_type": "code",
   "execution_count": 127,
   "metadata": {},
   "outputs": [
    {
     "name": "stdout",
     "output_type": "stream",
     "text": [
      "ENGINE Reading XMILE model from models/Donanemab impact.stmx\n",
      "0.1\n"
     ]
    }
   ],
   "source": [
    "# Clearing the last run and compiling exporting the result\n",
    "\n",
    "# Now with compiled model\n",
    "# Compile the model from XMILE\n",
    "\n",
    "model = Structure(from_xmile='models/Donanemab impact.stmx')\n",
    "\n",
    "# Then clear and alter a variable\n",
    "model.clear_last_run()\n",
    "model.aux_equations['Risk_of_progressing_MCI_to_diagnosis_pa'] = '0.1'\n",
    "print(model.aux_equations['Risk_of_progressing_MCI_to_diagnosis_pa'])\n",
    "\n",
    "#Uptake_of_Donanemab_early_stage_AD = 50\n",
    "model.simulate()\n",
    "results = model.export_simulation_result()#"
   ]
  },
  {
   "cell_type": "code",
   "execution_count": 128,
   "metadata": {},
   "outputs": [
    {
     "data": {
      "text/plain": [
       "dict_keys(['UK_population_percent_prevalence_of_dementia', 'Population_100000', 'MCI', 'New_incidence_of_MCI', 'Demography_switch', 'Increase_in_incidence_pa', 'Developing_MCI', 'Risk_of_progressing_MCI_to_diagnosis_pa', 'Donanemab_impact_on_risk_of_progression_pa', 'Uptake_of_Donanemab_MCI', 'Percent_of_Dementia_that_is_Alzheimers', 'Diagnosis', 'Mild_dementia', 'Risk_of_progressing_from_early_to_late_stage_dementia_pa', 'Uptake_of_Donanemab_early_stage_AD', 'Progressing_to_late_stage_dementia', 'Late_stage_dementia', 'Risk_of_death_from_late_stage_dementia_pa', 'Death_with_late_stage_dementia', 'Total_diagnosed_dementia', 'Percent_change_in_MCI_prevalence', 'Percent_change_in_early_stage_diagnosed_dementia_prevalence', 'Percent_change_in_late_stage_dementia_prevalence', 'Percent_change_in_prevalence_of_diagnosed_dementia', 'Years'])"
      ]
     },
     "execution_count": 128,
     "metadata": {},
     "output_type": "execute_result"
    }
   ],
   "source": [
    "# Here are the keys\n",
    "\n",
    "results.keys()"
   ]
  },
  {
   "cell_type": "code",
   "execution_count": 129,
   "metadata": {},
   "outputs": [
    {
     "data": {
      "text/plain": [
       "[0.0,\n",
       " 0.0,\n",
       " 0.0,\n",
       " 0.0,\n",
       " 0.0,\n",
       " 0.0,\n",
       " 0.0,\n",
       " 0.0,\n",
       " 0.0,\n",
       " 0.0,\n",
       " 0.0,\n",
       " 0.0,\n",
       " 0.0,\n",
       " 5.0,\n",
       " 10.0,\n",
       " 15.0,\n",
       " 20.0,\n",
       " 27.5,\n",
       " 35.0,\n",
       " 42.5,\n",
       " 50.0,\n",
       " 52.5,\n",
       " 55.0,\n",
       " 57.5,\n",
       " 60.0,\n",
       " 62.5,\n",
       " 65.0,\n",
       " 67.5,\n",
       " 70.0,\n",
       " 70.0,\n",
       " 70.0,\n",
       " 70.0,\n",
       " 70.0,\n",
       " 70.0,\n",
       " 70.0,\n",
       " 70.0,\n",
       " 70.0,\n",
       " 70.0,\n",
       " 70.0,\n",
       " 70.0,\n",
       " 70.0,\n",
       " 70.0,\n",
       " 70.0,\n",
       " 70.0,\n",
       " 70.0,\n",
       " 70.0,\n",
       " 70.0,\n",
       " 70.0,\n",
       " 70.0,\n",
       " 70.0,\n",
       " 70.0,\n",
       " 70.0,\n",
       " 70.0,\n",
       " 70.0,\n",
       " 70.0,\n",
       " 70.0,\n",
       " 70.0,\n",
       " 70.0,\n",
       " 70.0,\n",
       " 70.0,\n",
       " 70.0,\n",
       " 70.0,\n",
       " 70.0,\n",
       " 70.0,\n",
       " 70.0,\n",
       " 70.0,\n",
       " 70.0,\n",
       " 70.0,\n",
       " 70.0,\n",
       " 70.0,\n",
       " 70.0,\n",
       " 70.0,\n",
       " 70.0,\n",
       " 70.0,\n",
       " 70.0,\n",
       " 70.0,\n",
       " 70.0,\n",
       " 70.0,\n",
       " 70.0,\n",
       " 70.0,\n",
       " 70.0]"
      ]
     },
     "execution_count": 129,
     "metadata": {},
     "output_type": "execute_result"
    }
   ],
   "source": [
    "results['Uptake_of_Donanemab_early_stage_AD']"
   ]
  },
  {
   "cell_type": "code",
   "execution_count": 130,
   "metadata": {},
   "outputs": [
    {
     "data": {
      "application/vnd.plotly.v1+json": {
       "config": {
        "plotlyServerURL": "https://plot.ly"
       },
       "data": [
        {
         "hovertemplate": "variable=Percent_change_in_late_stage_dementia_prevalence<br>Years=%{x}<br>value=%{y}<extra></extra>",
         "legendgroup": "Percent_change_in_late_stage_dementia_prevalence",
         "line": {
          "color": "#636efa",
          "dash": "solid"
         },
         "marker": {
          "symbol": "circle"
         },
         "mode": "lines",
         "name": "Percent_change_in_late_stage_dementia_prevalence",
         "orientation": "v",
         "showlegend": true,
         "type": "scatter",
         "x": [
          0,
          0.25,
          0.5,
          0.75,
          1,
          1.25,
          1.5,
          1.75,
          2,
          2.25,
          2.5,
          2.75,
          3,
          3.25,
          3.5,
          3.75,
          4,
          4.25,
          4.5,
          4.75,
          5,
          5.25,
          5.5,
          5.75,
          6,
          6.25,
          6.5,
          6.75,
          7,
          7.25,
          7.5,
          7.75,
          8,
          8.25,
          8.5,
          8.75,
          9,
          9.25,
          9.5,
          9.75,
          10,
          10.25,
          10.5,
          10.75,
          11,
          11.25,
          11.5,
          11.75,
          12,
          12.25,
          12.5,
          12.75,
          13,
          13.25,
          13.5,
          13.75,
          14,
          14.25,
          14.5,
          14.75,
          15,
          15.25,
          15.5,
          15.75,
          16,
          16.25,
          16.5,
          16.75,
          17,
          17.25,
          17.5,
          17.75,
          18,
          18.25,
          18.5,
          18.75,
          19,
          19.25,
          19.5,
          19.75,
          20
         ],
         "xaxis": "x",
         "y": [
          100,
          100,
          98.75,
          96.59375,
          93.8078125,
          90.61300781249999,
          87.18404736328124,
          83.65762916259763,
          80.13922939575193,
          76.70878962307738,
          73.42546957968501,
          70.33161032356676,
          67.45603089322496,
          64.81676318374409,
          62.35338307068285,
          60.081300492558945,
          58.00735588471778,
          56.13198185332221,
          54.41610068190039,
          52.85770818391222,
          51.45117921758787,
          50.188393687669134,
          49.13295845349594,
          48.26415608846864,
          47.56268570531204,
          47.01065651755947,
          46.59155843746818,
          46.292566997285675,
          46.10158876619082,
          46.00729309752177,
          46.041894778557946,
          46.1901050079019,
          46.43817668836069,
          46.773756202504394,
          47.18574897219419,
          47.664197573392606,
          48.200171279897226,
          48.785666004485805,
          49.413513693711906,
          50.077300313639185,
          50.77129163854532,
          51.49036612345562,
          52.22995420466495,
          52.985983430549055,
          53.754828878310136,
          54.53326836119216,
          55.31844197546497,
          56.107815577424155,
          56.89914781807748,
          57.69046039736472,
          58.48001123094334,
          59.26627025100848,
          60.047897588527476,
          60.82372390786499,
          61.59273268624891,
          62.354044250058536,
          63.10690139767201,
          63.85065645474146,
          64.58475962241442,
          65.30874849231748,
          66.02223861418258,
          66.72491501293858,
          67.41652456200839,
          68.0968691285417,
          68.76579941445368,
          69.42320942451411,
          70.06903149940418,
          70.70323185769797,
          71.32580659618908,
          71.93677810292279,
          72.53619184176257,
          73.12411347135578,
          73.70062626501263,
          74.26582880130806,
          74.8198328981929,
          75.3627617660879,
          75.89474835786157,
          76.41593389578158,
          76.92646655750602,
          77.42650030496341,
          77.91619384157832
         ],
         "yaxis": "y"
        },
        {
         "hovertemplate": "variable=Percent_change_in_prevalence_of_diagnosed_dementia<br>Years=%{x}<br>value=%{y}<extra></extra>",
         "legendgroup": "Percent_change_in_prevalence_of_diagnosed_dementia",
         "line": {
          "color": "#EF553B",
          "dash": "solid"
         },
         "marker": {
          "symbol": "circle"
         },
         "mode": "lines",
         "name": "Percent_change_in_prevalence_of_diagnosed_dementia",
         "orientation": "v",
         "showlegend": true,
         "type": "scatter",
         "x": [
          0,
          0.25,
          0.5,
          0.75,
          1,
          1.25,
          1.5,
          1.75,
          2,
          2.25,
          2.5,
          2.75,
          3,
          3.25,
          3.5,
          3.75,
          4,
          4.25,
          4.5,
          4.75,
          5,
          5.25,
          5.5,
          5.75,
          6,
          6.25,
          6.5,
          6.75,
          7,
          7.25,
          7.5,
          7.75,
          8,
          8.25,
          8.5,
          8.75,
          9,
          9.25,
          9.5,
          9.75,
          10,
          10.25,
          10.5,
          10.75,
          11,
          11.25,
          11.5,
          11.75,
          12,
          12.25,
          12.5,
          12.75,
          13,
          13.25,
          13.5,
          13.75,
          14,
          14.25,
          14.5,
          14.75,
          15,
          15.25,
          15.5,
          15.75,
          16,
          16.25,
          16.5,
          16.75,
          17,
          17.25,
          17.5,
          17.75,
          18,
          18.25,
          18.5,
          18.75,
          19,
          19.25,
          19.5,
          19.75,
          20
         ],
         "xaxis": "x",
         "y": [
          100,
          95,
          90.125,
          85.44999999999999,
          81.02859374999998,
          76.89716601562499,
          73.07837456054685,
          69.58403009521483,
          66.4174703050537,
          63.575509449507884,
          61.05003255521203,
          58.82929260219952,
          56.89896005530146,
          55.24296639534166,
          53.819809139488854,
          52.615134352082535,
          51.613753459474154,
          50.80017266205724,
          50.149784384152305,
          49.64943534119144,
          49.28621352801784,
          49.04766797525535,
          48.94240498998261,
          48.95523708582653,
          49.07234648881746,
          49.28119357351281,
          49.58161146137941,
          49.963561407000995,
          50.4178573986889,
          50.93611881539406,
          51.52280412633967,
          52.168485486191216,
          52.864720692708,
          53.60395617006496,
          54.37943923068461,
          55.18513875376303,
          56.015673495474175,
          56.866247316240845,
          57.732590674936866,
          58.61090779887651,
          59.4978289923733,
          60.39036759590422,
          61.285881152868235,
          62.18203638192369,
          63.07677759025119,
          63.9682981971167,
          64.85501506808161,
          65.73554538838056,
          66.6086858296032,
          67.47339378709137,
          68.32877048660293,
          69.1740457779849,
          70.00856445100942,
          70.83177392432255,
          71.643213172772,
          72.44250277135778,
          73.22933594580499,
          74.00347053040342,
          74.76472174339717,
          75.51295569892783,
          76.24808358242653,
          76.97005642348628,
          77.6788604066981,
          78.37451266676786,
          79.05705751950029,
          79.7265630849997,
          80.38311826373628,
          81.0268300300118,
          81.6578210108639,
          82.27622732161296,
          82.88219663211139,
          83.47588644033121,
          84.0574625322506,
          84.62709760909506,
          85.18497006487975,
          85.73126289890232,
          86.26616274937233,
          86.78985903574657,
          87.30254319858719,
          87.8044080268828,
          88.295647063785
         ],
         "yaxis": "y"
        },
        {
         "hovertemplate": "variable=Percent_change_in_early_stage_diagnosed_dementia_prevalence<br>Years=%{x}<br>value=%{y}<extra></extra>",
         "legendgroup": "Percent_change_in_early_stage_diagnosed_dementia_prevalence",
         "line": {
          "color": "#00cc96",
          "dash": "solid"
         },
         "marker": {
          "symbol": "circle"
         },
         "mode": "lines",
         "name": "Percent_change_in_early_stage_diagnosed_dementia_prevalence",
         "orientation": "v",
         "showlegend": true,
         "type": "scatter",
         "x": [
          0,
          0.25,
          0.5,
          0.75,
          1,
          1.25,
          1.5,
          1.75,
          2,
          2.25,
          2.5,
          2.75,
          3,
          3.25,
          3.5,
          3.75,
          4,
          4.25,
          4.5,
          4.75,
          5,
          5.25,
          5.5,
          5.75,
          6,
          6.25,
          6.5,
          6.75,
          7,
          7.25,
          7.5,
          7.75,
          8,
          8.25,
          8.5,
          8.75,
          9,
          9.25,
          9.5,
          9.75,
          10,
          10.25,
          10.5,
          10.75,
          11,
          11.25,
          11.5,
          11.75,
          12,
          12.25,
          12.5,
          12.75,
          13,
          13.25,
          13.5,
          13.75,
          14,
          14.25,
          14.5,
          14.75,
          15,
          15.25,
          15.5,
          15.75,
          16,
          16.25,
          16.5,
          16.75,
          17,
          17.25,
          17.5,
          17.75,
          18,
          18.25,
          18.5,
          18.75,
          19,
          19.25,
          19.5,
          19.75,
          20
         ],
         "xaxis": "x",
         "y": [
          100,
          90,
          81.5,
          74.30624999999999,
          68.24937499999999,
          63.18132421874999,
          58.97270175781249,
          55.51043102783202,
          52.695711214355455,
          50.4422292759384,
          48.67459553073905,
          47.32697488083229,
          46.34188921737798,
          45.66916960693923,
          45.286235208294855,
          45.14896821160613,
          45.220151034230526,
          45.46836347079227,
          45.88346808640422,
          46.441162498470675,
          47.121247838447815,
          47.906942262841575,
          48.75185152646928,
          49.64631808318443,
          50.58200727232288,
          51.551730629466164,
          52.57166448529065,
          53.6345558167163,
          54.73412603118698,
          55.86494453326636,
          57.00371347412141,
          58.146865964480554,
          59.29126469705531,
          60.43415613762553,
          61.57312948917504,
          62.70607993413345,
          63.83117571105112,
          64.94682862799588,
          66.05166765616181,
          67.14451528411385,
          68.2243663462013,
          69.2903690683528,
          70.3418081010715,
          71.37808933329832,
          72.39872630219224,
          73.40332803304125,
          74.39158816069823,
          75.36327519933697,
          76.31822384112894,
          77.256327176818,
          78.17752974226256,
          79.08182130496131,
          79.96923131349133,
          80.8398239407801,
          81.69369365929509,
          82.53096129265705,
          83.35177049393798,
          84.15628460606538,
          84.94468386437994,
          85.71716290553817,
          86.4739285506705,
          87.215197834034,
          87.94119625138784,
          88.652156204994,
          89.3483156245469,
          90.02991674548528,
          90.69720502806837,
          91.3504282023256,
          91.9898354255387,
          92.61567654030314,
          93.22820142246019,
          93.82765940930662,
          94.41429879948853,
          94.98836641688204,
          95.5501072315666,
          96.09976403171675,
          96.63757714088308,
          97.16378417571157,
          97.67861983966837,
          98.18231574880218,
          98.67510028599169
         ],
         "yaxis": "y"
        }
       ],
       "layout": {
        "legend": {
         "title": {
          "text": "Waiting Period"
         },
         "tracegroupgap": 0
        },
        "margin": {
         "t": 60
        },
        "template": {
         "data": {
          "bar": [
           {
            "error_x": {
             "color": "#2a3f5f"
            },
            "error_y": {
             "color": "#2a3f5f"
            },
            "marker": {
             "line": {
              "color": "#E5ECF6",
              "width": 0.5
             },
             "pattern": {
              "fillmode": "overlay",
              "size": 10,
              "solidity": 0.2
             }
            },
            "type": "bar"
           }
          ],
          "barpolar": [
           {
            "marker": {
             "line": {
              "color": "#E5ECF6",
              "width": 0.5
             },
             "pattern": {
              "fillmode": "overlay",
              "size": 10,
              "solidity": 0.2
             }
            },
            "type": "barpolar"
           }
          ],
          "carpet": [
           {
            "aaxis": {
             "endlinecolor": "#2a3f5f",
             "gridcolor": "white",
             "linecolor": "white",
             "minorgridcolor": "white",
             "startlinecolor": "#2a3f5f"
            },
            "baxis": {
             "endlinecolor": "#2a3f5f",
             "gridcolor": "white",
             "linecolor": "white",
             "minorgridcolor": "white",
             "startlinecolor": "#2a3f5f"
            },
            "type": "carpet"
           }
          ],
          "choropleth": [
           {
            "colorbar": {
             "outlinewidth": 0,
             "ticks": ""
            },
            "type": "choropleth"
           }
          ],
          "contour": [
           {
            "colorbar": {
             "outlinewidth": 0,
             "ticks": ""
            },
            "colorscale": [
             [
              0,
              "#0d0887"
             ],
             [
              0.1111111111111111,
              "#46039f"
             ],
             [
              0.2222222222222222,
              "#7201a8"
             ],
             [
              0.3333333333333333,
              "#9c179e"
             ],
             [
              0.4444444444444444,
              "#bd3786"
             ],
             [
              0.5555555555555556,
              "#d8576b"
             ],
             [
              0.6666666666666666,
              "#ed7953"
             ],
             [
              0.7777777777777778,
              "#fb9f3a"
             ],
             [
              0.8888888888888888,
              "#fdca26"
             ],
             [
              1,
              "#f0f921"
             ]
            ],
            "type": "contour"
           }
          ],
          "contourcarpet": [
           {
            "colorbar": {
             "outlinewidth": 0,
             "ticks": ""
            },
            "type": "contourcarpet"
           }
          ],
          "heatmap": [
           {
            "colorbar": {
             "outlinewidth": 0,
             "ticks": ""
            },
            "colorscale": [
             [
              0,
              "#0d0887"
             ],
             [
              0.1111111111111111,
              "#46039f"
             ],
             [
              0.2222222222222222,
              "#7201a8"
             ],
             [
              0.3333333333333333,
              "#9c179e"
             ],
             [
              0.4444444444444444,
              "#bd3786"
             ],
             [
              0.5555555555555556,
              "#d8576b"
             ],
             [
              0.6666666666666666,
              "#ed7953"
             ],
             [
              0.7777777777777778,
              "#fb9f3a"
             ],
             [
              0.8888888888888888,
              "#fdca26"
             ],
             [
              1,
              "#f0f921"
             ]
            ],
            "type": "heatmap"
           }
          ],
          "heatmapgl": [
           {
            "colorbar": {
             "outlinewidth": 0,
             "ticks": ""
            },
            "colorscale": [
             [
              0,
              "#0d0887"
             ],
             [
              0.1111111111111111,
              "#46039f"
             ],
             [
              0.2222222222222222,
              "#7201a8"
             ],
             [
              0.3333333333333333,
              "#9c179e"
             ],
             [
              0.4444444444444444,
              "#bd3786"
             ],
             [
              0.5555555555555556,
              "#d8576b"
             ],
             [
              0.6666666666666666,
              "#ed7953"
             ],
             [
              0.7777777777777778,
              "#fb9f3a"
             ],
             [
              0.8888888888888888,
              "#fdca26"
             ],
             [
              1,
              "#f0f921"
             ]
            ],
            "type": "heatmapgl"
           }
          ],
          "histogram": [
           {
            "marker": {
             "pattern": {
              "fillmode": "overlay",
              "size": 10,
              "solidity": 0.2
             }
            },
            "type": "histogram"
           }
          ],
          "histogram2d": [
           {
            "colorbar": {
             "outlinewidth": 0,
             "ticks": ""
            },
            "colorscale": [
             [
              0,
              "#0d0887"
             ],
             [
              0.1111111111111111,
              "#46039f"
             ],
             [
              0.2222222222222222,
              "#7201a8"
             ],
             [
              0.3333333333333333,
              "#9c179e"
             ],
             [
              0.4444444444444444,
              "#bd3786"
             ],
             [
              0.5555555555555556,
              "#d8576b"
             ],
             [
              0.6666666666666666,
              "#ed7953"
             ],
             [
              0.7777777777777778,
              "#fb9f3a"
             ],
             [
              0.8888888888888888,
              "#fdca26"
             ],
             [
              1,
              "#f0f921"
             ]
            ],
            "type": "histogram2d"
           }
          ],
          "histogram2dcontour": [
           {
            "colorbar": {
             "outlinewidth": 0,
             "ticks": ""
            },
            "colorscale": [
             [
              0,
              "#0d0887"
             ],
             [
              0.1111111111111111,
              "#46039f"
             ],
             [
              0.2222222222222222,
              "#7201a8"
             ],
             [
              0.3333333333333333,
              "#9c179e"
             ],
             [
              0.4444444444444444,
              "#bd3786"
             ],
             [
              0.5555555555555556,
              "#d8576b"
             ],
             [
              0.6666666666666666,
              "#ed7953"
             ],
             [
              0.7777777777777778,
              "#fb9f3a"
             ],
             [
              0.8888888888888888,
              "#fdca26"
             ],
             [
              1,
              "#f0f921"
             ]
            ],
            "type": "histogram2dcontour"
           }
          ],
          "mesh3d": [
           {
            "colorbar": {
             "outlinewidth": 0,
             "ticks": ""
            },
            "type": "mesh3d"
           }
          ],
          "parcoords": [
           {
            "line": {
             "colorbar": {
              "outlinewidth": 0,
              "ticks": ""
             }
            },
            "type": "parcoords"
           }
          ],
          "pie": [
           {
            "automargin": true,
            "type": "pie"
           }
          ],
          "scatter": [
           {
            "fillpattern": {
             "fillmode": "overlay",
             "size": 10,
             "solidity": 0.2
            },
            "type": "scatter"
           }
          ],
          "scatter3d": [
           {
            "line": {
             "colorbar": {
              "outlinewidth": 0,
              "ticks": ""
             }
            },
            "marker": {
             "colorbar": {
              "outlinewidth": 0,
              "ticks": ""
             }
            },
            "type": "scatter3d"
           }
          ],
          "scattercarpet": [
           {
            "marker": {
             "colorbar": {
              "outlinewidth": 0,
              "ticks": ""
             }
            },
            "type": "scattercarpet"
           }
          ],
          "scattergeo": [
           {
            "marker": {
             "colorbar": {
              "outlinewidth": 0,
              "ticks": ""
             }
            },
            "type": "scattergeo"
           }
          ],
          "scattergl": [
           {
            "marker": {
             "colorbar": {
              "outlinewidth": 0,
              "ticks": ""
             }
            },
            "type": "scattergl"
           }
          ],
          "scattermapbox": [
           {
            "marker": {
             "colorbar": {
              "outlinewidth": 0,
              "ticks": ""
             }
            },
            "type": "scattermapbox"
           }
          ],
          "scatterpolar": [
           {
            "marker": {
             "colorbar": {
              "outlinewidth": 0,
              "ticks": ""
             }
            },
            "type": "scatterpolar"
           }
          ],
          "scatterpolargl": [
           {
            "marker": {
             "colorbar": {
              "outlinewidth": 0,
              "ticks": ""
             }
            },
            "type": "scatterpolargl"
           }
          ],
          "scatterternary": [
           {
            "marker": {
             "colorbar": {
              "outlinewidth": 0,
              "ticks": ""
             }
            },
            "type": "scatterternary"
           }
          ],
          "surface": [
           {
            "colorbar": {
             "outlinewidth": 0,
             "ticks": ""
            },
            "colorscale": [
             [
              0,
              "#0d0887"
             ],
             [
              0.1111111111111111,
              "#46039f"
             ],
             [
              0.2222222222222222,
              "#7201a8"
             ],
             [
              0.3333333333333333,
              "#9c179e"
             ],
             [
              0.4444444444444444,
              "#bd3786"
             ],
             [
              0.5555555555555556,
              "#d8576b"
             ],
             [
              0.6666666666666666,
              "#ed7953"
             ],
             [
              0.7777777777777778,
              "#fb9f3a"
             ],
             [
              0.8888888888888888,
              "#fdca26"
             ],
             [
              1,
              "#f0f921"
             ]
            ],
            "type": "surface"
           }
          ],
          "table": [
           {
            "cells": {
             "fill": {
              "color": "#EBF0F8"
             },
             "line": {
              "color": "white"
             }
            },
            "header": {
             "fill": {
              "color": "#C8D4E3"
             },
             "line": {
              "color": "white"
             }
            },
            "type": "table"
           }
          ]
         },
         "layout": {
          "annotationdefaults": {
           "arrowcolor": "#2a3f5f",
           "arrowhead": 0,
           "arrowwidth": 1
          },
          "autotypenumbers": "strict",
          "coloraxis": {
           "colorbar": {
            "outlinewidth": 0,
            "ticks": ""
           }
          },
          "colorscale": {
           "diverging": [
            [
             0,
             "#8e0152"
            ],
            [
             0.1,
             "#c51b7d"
            ],
            [
             0.2,
             "#de77ae"
            ],
            [
             0.3,
             "#f1b6da"
            ],
            [
             0.4,
             "#fde0ef"
            ],
            [
             0.5,
             "#f7f7f7"
            ],
            [
             0.6,
             "#e6f5d0"
            ],
            [
             0.7,
             "#b8e186"
            ],
            [
             0.8,
             "#7fbc41"
            ],
            [
             0.9,
             "#4d9221"
            ],
            [
             1,
             "#276419"
            ]
           ],
           "sequential": [
            [
             0,
             "#0d0887"
            ],
            [
             0.1111111111111111,
             "#46039f"
            ],
            [
             0.2222222222222222,
             "#7201a8"
            ],
            [
             0.3333333333333333,
             "#9c179e"
            ],
            [
             0.4444444444444444,
             "#bd3786"
            ],
            [
             0.5555555555555556,
             "#d8576b"
            ],
            [
             0.6666666666666666,
             "#ed7953"
            ],
            [
             0.7777777777777778,
             "#fb9f3a"
            ],
            [
             0.8888888888888888,
             "#fdca26"
            ],
            [
             1,
             "#f0f921"
            ]
           ],
           "sequentialminus": [
            [
             0,
             "#0d0887"
            ],
            [
             0.1111111111111111,
             "#46039f"
            ],
            [
             0.2222222222222222,
             "#7201a8"
            ],
            [
             0.3333333333333333,
             "#9c179e"
            ],
            [
             0.4444444444444444,
             "#bd3786"
            ],
            [
             0.5555555555555556,
             "#d8576b"
            ],
            [
             0.6666666666666666,
             "#ed7953"
            ],
            [
             0.7777777777777778,
             "#fb9f3a"
            ],
            [
             0.8888888888888888,
             "#fdca26"
            ],
            [
             1,
             "#f0f921"
            ]
           ]
          },
          "colorway": [
           "#636efa",
           "#EF553B",
           "#00cc96",
           "#ab63fa",
           "#FFA15A",
           "#19d3f3",
           "#FF6692",
           "#B6E880",
           "#FF97FF",
           "#FECB52"
          ],
          "font": {
           "color": "#2a3f5f"
          },
          "geo": {
           "bgcolor": "white",
           "lakecolor": "white",
           "landcolor": "#E5ECF6",
           "showlakes": true,
           "showland": true,
           "subunitcolor": "white"
          },
          "hoverlabel": {
           "align": "left"
          },
          "hovermode": "closest",
          "mapbox": {
           "style": "light"
          },
          "paper_bgcolor": "white",
          "plot_bgcolor": "#E5ECF6",
          "polar": {
           "angularaxis": {
            "gridcolor": "white",
            "linecolor": "white",
            "ticks": ""
           },
           "bgcolor": "#E5ECF6",
           "radialaxis": {
            "gridcolor": "white",
            "linecolor": "white",
            "ticks": ""
           }
          },
          "scene": {
           "xaxis": {
            "backgroundcolor": "#E5ECF6",
            "gridcolor": "white",
            "gridwidth": 2,
            "linecolor": "white",
            "showbackground": true,
            "ticks": "",
            "zerolinecolor": "white"
           },
           "yaxis": {
            "backgroundcolor": "#E5ECF6",
            "gridcolor": "white",
            "gridwidth": 2,
            "linecolor": "white",
            "showbackground": true,
            "ticks": "",
            "zerolinecolor": "white"
           },
           "zaxis": {
            "backgroundcolor": "#E5ECF6",
            "gridcolor": "white",
            "gridwidth": 2,
            "linecolor": "white",
            "showbackground": true,
            "ticks": "",
            "zerolinecolor": "white"
           }
          },
          "shapedefaults": {
           "line": {
            "color": "#2a3f5f"
           }
          },
          "ternary": {
           "aaxis": {
            "gridcolor": "white",
            "linecolor": "white",
            "ticks": ""
           },
           "baxis": {
            "gridcolor": "white",
            "linecolor": "white",
            "ticks": ""
           },
           "bgcolor": "#E5ECF6",
           "caxis": {
            "gridcolor": "white",
            "linecolor": "white",
            "ticks": ""
           }
          },
          "title": {
           "x": 0.05
          },
          "xaxis": {
           "automargin": true,
           "gridcolor": "white",
           "linecolor": "white",
           "ticks": "",
           "title": {
            "standoff": 15
           },
           "zerolinecolor": "white",
           "zerolinewidth": 2
          },
          "yaxis": {
           "automargin": true,
           "gridcolor": "white",
           "linecolor": "white",
           "ticks": "",
           "title": {
            "standoff": 15
           },
           "zerolinecolor": "white",
           "zerolinewidth": 2
          }
         }
        },
        "title": {
         "text": "Predicted Effects of Donanumab on the UK Population"
        },
        "xaxis": {
         "anchor": "y",
         "domain": [
          0,
          1
         ],
         "title": {
          "text": "Years"
         }
        },
        "yaxis": {
         "anchor": "x",
         "domain": [
          0,
          1
         ],
         "title": {
          "text": "Percent Changes in Prevalence"
         }
        }
       }
      }
     },
     "metadata": {},
     "output_type": "display_data"
    }
   ],
   "source": [
    "df = pd.DataFrame(results)\n",
    "# df['Average_wait_for_diagnostic_test'] = pd.to_datetime(df['Average_wait_for_diagnostic_test'])  # Convert the 'time' column to datetime objects\n",
    "\n",
    "# Now specify the columns directly\n",
    "fig = px.line(df, x='Years', y=[\"Percent_change_in_late_stage_dementia_prevalence\", \"Percent_change_in_prevalence_of_diagnosed_dementia\", \"Percent_change_in_early_stage_diagnosed_dementia_prevalence\"])\n",
    "\n",
    "fig.update_layout(\n",
    "    title='Predicted Effects of Donanumab on the UK Population',\n",
    "    xaxis_title='Years',\n",
    "    yaxis_title='Percent Changes in Prevalence',\n",
    "    legend_title='Waiting Period',\n",
    ")\n",
    "\n",
    "fig.show()"
   ]
  },
  {
   "cell_type": "code",
   "execution_count": null,
   "metadata": {},
   "outputs": [],
   "source": []
  }
 ],
 "metadata": {
  "kernelspec": {
   "display_name": "Donanumab_Model-6HpMHVi0",
   "language": "python",
   "name": "python3"
  },
  "language_info": {
   "codemirror_mode": {
    "name": "ipython",
    "version": 3
   },
   "file_extension": ".py",
   "mimetype": "text/x-python",
   "name": "python",
   "nbconvert_exporter": "python",
   "pygments_lexer": "ipython3",
   "version": "3.10.0"
  },
  "orig_nbformat": 4
 },
 "nbformat": 4,
 "nbformat_minor": 2
}
